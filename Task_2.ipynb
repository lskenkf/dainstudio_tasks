{
 "cells": [
  {
   "cell_type": "code",
   "execution_count": 151,
   "id": "327dc58d",
   "metadata": {},
   "outputs": [],
   "source": [
    "import warnings\n",
    "warnings.filterwarnings(\"ignore\")\n",
    "\n",
    "import pandas as pd\n",
    "\n",
    "from keras.models import Sequential\n",
    "from keras.layers import Dense\n",
    "from xgboost import XGBClassifier\n",
    "from sklearn.model_selection import train_test_split\n",
    "from sklearn.metrics import accuracy_score\n",
    "from sklearn.metrics import classification_report\n",
    "\n",
    "from autokeras import StructuredDataClassifier as ml_classifier\n"
   ]
  },
  {
   "cell_type": "code",
   "execution_count": 152,
   "id": "dfc0bf83",
   "metadata": {},
   "outputs": [
    {
     "data": {
      "text/plain": [
       "age               0.0\n",
       "worklass          0.0\n",
       "fnlwgt            0.0\n",
       "education         0.0\n",
       "education-num     0.0\n",
       "martial-status    0.0\n",
       "occupation        0.0\n",
       "relationship      0.0\n",
       "race              0.0\n",
       "sex               0.0\n",
       "capital-gain      0.0\n",
       "capital-loss      0.0\n",
       "hours-per-week    0.0\n",
       "native-country    0.0\n",
       "income            0.0\n",
       "dtype: float64"
      ]
     },
     "execution_count": 152,
     "metadata": {},
     "output_type": "execute_result"
    }
   ],
   "source": [
    "data_path = 'D:\\pythonProject\\dainstudio_tasks\\ml_dataset.csv'\n",
    "data_df = pd.read_csv(data_path)\n",
    "data_df = data_df.drop(columns='id')\n",
    "data_df['income'] = data_df.apply(lambda x: int(x['income']=='>50K'),axis=1)\n",
    "data_df.isnull().mean() * 100 "
   ]
  },
  {
   "cell_type": "code",
   "execution_count": 153,
   "id": "a1bd3977",
   "metadata": {},
   "outputs": [
    {
     "name": "stdout",
     "output_type": "stream",
     "text": [
      "int64 ['age', 'fnlwgt', 'education-num', 'capital-gain', 'capital-loss', 'hours-per-week', 'income']\n",
      "object ['worklass', 'education', 'martial-status', 'occupation', 'relationship', 'race', 'sex', 'native-country']\n"
     ]
    }
   ],
   "source": [
    "cols_type_groups = data_df.columns.to_series().groupby(data_df.dtypes).groups\n",
    "cols_type_groups = {k.name: v for k, v in cols_type_groups.items()}\n",
    "num_cols = cols_type_groups['int64']\n",
    "cat_cols = cols_type_groups['object']\n",
    "num_data = data_df[num_cols]\n",
    "data_df = pd.get_dummies(data_df, columns=cat_cols)\n",
    "for key,value in cols_type_groups.items():\n",
    "    print(key, list(value))"
   ]
  },
  {
   "cell_type": "code",
   "execution_count": 154,
   "id": "bb1bbbf9",
   "metadata": {},
   "outputs": [
    {
     "data": {
      "text/html": [
       "<div>\n",
       "<style scoped>\n",
       "    .dataframe tbody tr th:only-of-type {\n",
       "        vertical-align: middle;\n",
       "    }\n",
       "\n",
       "    .dataframe tbody tr th {\n",
       "        vertical-align: top;\n",
       "    }\n",
       "\n",
       "    .dataframe thead th {\n",
       "        text-align: right;\n",
       "    }\n",
       "</style>\n",
       "<table border=\"1\" class=\"dataframe\">\n",
       "  <thead>\n",
       "    <tr style=\"text-align: right;\">\n",
       "      <th></th>\n",
       "      <th>income</th>\n",
       "    </tr>\n",
       "  </thead>\n",
       "  <tbody>\n",
       "    <tr>\n",
       "      <th>martial-status_Never-married</th>\n",
       "      <td>-0.318440</td>\n",
       "    </tr>\n",
       "    <tr>\n",
       "      <th>relationship_Own-child</th>\n",
       "      <td>-0.228532</td>\n",
       "    </tr>\n",
       "    <tr>\n",
       "      <th>sex_Female</th>\n",
       "      <td>-0.215980</td>\n",
       "    </tr>\n",
       "    <tr>\n",
       "      <th>relationship_Not-in-family</th>\n",
       "      <td>-0.188497</td>\n",
       "    </tr>\n",
       "    <tr>\n",
       "      <th>occupation_Other-service</th>\n",
       "      <td>-0.156348</td>\n",
       "    </tr>\n",
       "    <tr>\n",
       "      <th>...</th>\n",
       "      <td>...</td>\n",
       "    </tr>\n",
       "    <tr>\n",
       "      <th>age</th>\n",
       "      <td>0.234037</td>\n",
       "    </tr>\n",
       "    <tr>\n",
       "      <th>education-num</th>\n",
       "      <td>0.335154</td>\n",
       "    </tr>\n",
       "    <tr>\n",
       "      <th>relationship_Husband</th>\n",
       "      <td>0.401035</td>\n",
       "    </tr>\n",
       "    <tr>\n",
       "      <th>martial-status_Married-civ-spouse</th>\n",
       "      <td>0.444696</td>\n",
       "    </tr>\n",
       "    <tr>\n",
       "      <th>income</th>\n",
       "      <td>1.000000</td>\n",
       "    </tr>\n",
       "  </tbody>\n",
       "</table>\n",
       "<p>109 rows × 1 columns</p>\n",
       "</div>"
      ],
      "text/plain": [
       "                                     income\n",
       "martial-status_Never-married      -0.318440\n",
       "relationship_Own-child            -0.228532\n",
       "sex_Female                        -0.215980\n",
       "relationship_Not-in-family        -0.188497\n",
       "occupation_Other-service          -0.156348\n",
       "...                                     ...\n",
       "age                                0.234037\n",
       "education-num                      0.335154\n",
       "relationship_Husband               0.401035\n",
       "martial-status_Married-civ-spouse  0.444696\n",
       "income                             1.000000\n",
       "\n",
       "[109 rows x 1 columns]"
      ]
     },
     "execution_count": 154,
     "metadata": {},
     "output_type": "execute_result"
    }
   ],
   "source": [
    "data_df.corr()[['income']].sort_values(by='income')"
   ]
  },
  {
   "cell_type": "code",
   "execution_count": 155,
   "id": "caaf40de",
   "metadata": {},
   "outputs": [],
   "source": [
    "# martial-status_Married-civ-spouse: 0.444696, indicates we need \n",
    "# to use tree based estimator "
   ]
  },
  {
   "cell_type": "code",
   "execution_count": 156,
   "id": "67793ca7",
   "metadata": {},
   "outputs": [],
   "source": [
    "X = data_df.drop(columns='income')\n",
    "Y = data_df['income']\n",
    "seed = 7\n",
    "test_size = 0.33\n",
    "X_train, X_test, y_train, y_test = train_test_split(\n",
    "    X, \n",
    "    Y, \n",
    "    test_size=test_size, \n",
    "    random_state=seed\n",
    ")"
   ]
  },
  {
   "cell_type": "code",
   "execution_count": 157,
   "id": "6d6c21ef",
   "metadata": {},
   "outputs": [],
   "source": [
    "def train_evaluate(model):\n",
    "    \n",
    "    model.fit(X_train, y_train)\n",
    "    test_y_pred = model.predict(X_test)\n",
    "    train_y_pred = model.predict(X_train)\n",
    "\n",
    "    print('train:---')\n",
    "    print(str(classification_report(y_train, train_y_pred)))\n",
    "    print('######')\n",
    "    print('test:---')\n",
    "    print(str(classification_report(y_test, test_y_pred)))\n",
    "    "
   ]
  },
  {
   "cell_type": "code",
   "execution_count": 158,
   "id": "12427b77",
   "metadata": {},
   "outputs": [
    {
     "name": "stdout",
     "output_type": "stream",
     "text": [
      "[13:41:04] WARNING: C:/Users/Administrator/workspace/xgboost-win64_release_1.5.1/src/learner.cc:1115: Starting in XGBoost 1.3.0, the default evaluation metric used with the objective 'binary:logistic' was changed from 'error' to 'logloss'. Explicitly set eval_metric if you'd like to restore the old behavior.\n",
      "train:---\n",
      "              precision    recall  f1-score   support\n",
      "\n",
      "           0       0.92      0.96      0.94     16551\n",
      "           1       0.86      0.75      0.80      5264\n",
      "\n",
      "    accuracy                           0.91     21815\n",
      "   macro avg       0.89      0.85      0.87     21815\n",
      "weighted avg       0.91      0.91      0.91     21815\n",
      "\n",
      "######\n",
      "test:---\n",
      "              precision    recall  f1-score   support\n",
      "\n",
      "           0       0.90      0.94      0.92      8169\n",
      "           1       0.78      0.65      0.71      2577\n",
      "\n",
      "    accuracy                           0.87     10746\n",
      "   macro avg       0.84      0.80      0.81     10746\n",
      "weighted avg       0.87      0.87      0.87     10746\n",
      "\n"
     ]
    }
   ],
   "source": [
    "# xgboost \n",
    "model = XGBClassifier()\n",
    "train_evaluate(model)"
   ]
  },
  {
   "cell_type": "code",
   "execution_count": 159,
   "id": "22eb2d2e",
   "metadata": {},
   "outputs": [
    {
     "name": "stdout",
     "output_type": "stream",
     "text": [
      "INFO:tensorflow:Reloading Oracle from existing project .\\structured_data_classifier\\oracle.json\n",
      "INFO:tensorflow:Reloading Tuner from .\\structured_data_classifier\\tuner0.json\n",
      "INFO:tensorflow:Oracle triggered exit\n",
      "Epoch 1/16\n",
      "682/682 [==============================] - 5s 4ms/step - loss: 0.4239 - accuracy: 0.7995\n",
      "Epoch 2/16\n",
      "682/682 [==============================] - 3s 4ms/step - loss: 0.3708 - accuracy: 0.8283\n",
      "Epoch 3/16\n",
      "682/682 [==============================] - 3s 4ms/step - loss: 0.3630 - accuracy: 0.8315\n",
      "Epoch 4/16\n",
      "682/682 [==============================] - 3s 4ms/step - loss: 0.3595 - accuracy: 0.8341\n",
      "Epoch 5/16\n",
      "682/682 [==============================] - 3s 4ms/step - loss: 0.3555 - accuracy: 0.8353\n",
      "Epoch 6/16\n",
      "682/682 [==============================] - 3s 4ms/step - loss: 0.3534 - accuracy: 0.8356\n",
      "Epoch 7/16\n",
      "682/682 [==============================] - 3s 4ms/step - loss: 0.3501 - accuracy: 0.8370\n",
      "Epoch 8/16\n",
      "682/682 [==============================] - 3s 4ms/step - loss: 0.3499 - accuracy: 0.8382\n",
      "Epoch 9/16\n",
      "682/682 [==============================] - 3s 4ms/step - loss: 0.3474 - accuracy: 0.8379\n",
      "Epoch 10/16\n",
      "682/682 [==============================] - 3s 4ms/step - loss: 0.3449 - accuracy: 0.8386\n",
      "Epoch 11/16\n",
      "682/682 [==============================] - 3s 4ms/step - loss: 0.3450 - accuracy: 0.8411\n",
      "Epoch 12/16\n",
      "682/682 [==============================] - 3s 4ms/step - loss: 0.3438 - accuracy: 0.8409\n",
      "Epoch 13/16\n",
      "682/682 [==============================] - 3s 4ms/step - loss: 0.3434 - accuracy: 0.8411\n",
      "Epoch 14/16\n",
      "682/682 [==============================] - 3s 4ms/step - loss: 0.3416 - accuracy: 0.8421\n",
      "Epoch 15/16\n",
      "682/682 [==============================] - 3s 4ms/step - loss: 0.3404 - accuracy: 0.8422\n",
      "Epoch 16/16\n",
      "682/682 [==============================] - 3s 4ms/step - loss: 0.3404 - accuracy: 0.8411\n",
      "INFO:tensorflow:Assets written to: .\\structured_data_classifier\\best_model\\assets\n",
      "336/336 [==============================] - 2s 5ms/step\n",
      "682/682 [==============================] - 3s 5ms/step\n",
      "train:---\n",
      "              precision    recall  f1-score   support\n",
      "\n",
      "           0       0.87      0.94      0.91     16551\n",
      "           1       0.75      0.57      0.65      5264\n",
      "\n",
      "    accuracy                           0.85     21815\n",
      "   macro avg       0.81      0.75      0.78     21815\n",
      "weighted avg       0.84      0.85      0.84     21815\n",
      "\n",
      "######\n",
      "test:---\n",
      "              precision    recall  f1-score   support\n",
      "\n",
      "           0       0.87      0.94      0.90      8169\n",
      "           1       0.73      0.54      0.62      2577\n",
      "\n",
      "    accuracy                           0.84     10746\n",
      "   macro avg       0.80      0.74      0.76     10746\n",
      "weighted avg       0.83      0.84      0.83     10746\n",
      "\n"
     ]
    }
   ],
   "source": [
    "# auto ml\n",
    "model = ml_classifier(max_trials=5)\n",
    "train_evaluate(model)"
   ]
  },
  {
   "cell_type": "code",
   "execution_count": 160,
   "id": "b25a639f",
   "metadata": {},
   "outputs": [],
   "source": [
    "def create_model():\n",
    "    model = Sequential()\n",
    "    model.add(Dense(108, input_dim=108, activation='relu'))\n",
    "    model.add(Dense(1, activation='sigmoid'))\n",
    "    model.compile(loss='binary_crossentropy', optimizer='adam', metrics=['accuracy'])\n",
    "    \n",
    "    return model \n",
    "\n",
    "estimator = KerasClassifier(\n",
    "        build_fn=create_model, \n",
    "        epochs=100, \n",
    "        batch_size=30, \n",
    "        verbose=0\n",
    "    )"
   ]
  },
  {
   "cell_type": "code",
   "execution_count": 161,
   "id": "4ec3ddee",
   "metadata": {},
   "outputs": [
    {
     "name": "stdout",
     "output_type": "stream",
     "text": [
      "train:---\n",
      "              precision    recall  f1-score   support\n",
      "\n",
      "           0       0.79      0.99      0.88     16551\n",
      "           1       0.90      0.14      0.25      5264\n",
      "\n",
      "    accuracy                           0.79     21815\n",
      "   macro avg       0.84      0.57      0.56     21815\n",
      "weighted avg       0.81      0.79      0.73     21815\n",
      "\n",
      "######\n",
      "test:---\n",
      "              precision    recall  f1-score   support\n",
      "\n",
      "           0       0.79      0.99      0.88      8169\n",
      "           1       0.88      0.14      0.24      2577\n",
      "\n",
      "    accuracy                           0.79     10746\n",
      "   macro avg       0.83      0.57      0.56     10746\n",
      "weighted avg       0.81      0.79      0.73     10746\n",
      "\n"
     ]
    }
   ],
   "source": [
    "# dl binary classifier\n",
    "model = estimator\n",
    "train_evaluate(model)"
   ]
  },
  {
   "cell_type": "code",
   "execution_count": 162,
   "id": "858d7764",
   "metadata": {},
   "outputs": [],
   "source": [
    "# In general, xgboost gives the best performance regarding accuracy for \n",
    "# both train and test,  and it is only overfitted a little bit.\n",
    "# auto ml is slightly worse, but both dl and auto ml is a little under fitted.\n",
    "# dl is sometimes very bad with around 45% accuracy and f1 score, so I think \n",
    "# it is not very stable, but both xgboost and auto ml is stable.\n"
   ]
  }
 ],
 "metadata": {
  "kernelspec": {
   "display_name": "Python 3 (ipykernel)",
   "language": "python",
   "name": "python3"
  },
  "language_info": {
   "codemirror_mode": {
    "name": "ipython",
    "version": 3
   },
   "file_extension": ".py",
   "mimetype": "text/x-python",
   "name": "python",
   "nbconvert_exporter": "python",
   "pygments_lexer": "ipython3",
   "version": "3.9.1"
  }
 },
 "nbformat": 4,
 "nbformat_minor": 5
}
