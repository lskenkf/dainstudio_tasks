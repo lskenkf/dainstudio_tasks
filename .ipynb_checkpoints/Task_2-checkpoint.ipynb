{
 "cells": [
  {
   "cell_type": "code",
   "execution_count": 126,
   "id": "618a5b73",
   "metadata": {},
   "outputs": [],
   "source": [
    "import warnings\n",
    "warnings.filterwarnings(\"ignore\")\n",
    "\n",
    "import pandas as pd\n",
    "\n",
    "from xgboost import XGBClassifier\n",
    "from sklearn.model_selection import train_test_split\n",
    "from sklearn.metrics import accuracy_score\n",
    "from sklearn.metrics import classification_report\n",
    "\n",
    "from autokeras import StructuredDataClassifier as ml_classifier\n"
   ]
  },
  {
   "cell_type": "code",
   "execution_count": 100,
   "id": "6adf3f7d",
   "metadata": {},
   "outputs": [
    {
     "data": {
      "text/plain": [
       "age               0.0\n",
       "worklass          0.0\n",
       "fnlwgt            0.0\n",
       "education         0.0\n",
       "education-num     0.0\n",
       "martial-status    0.0\n",
       "occupation        0.0\n",
       "relationship      0.0\n",
       "race              0.0\n",
       "sex               0.0\n",
       "capital-gain      0.0\n",
       "capital-loss      0.0\n",
       "hours-per-week    0.0\n",
       "native-country    0.0\n",
       "income            0.0\n",
       "dtype: float64"
      ]
     },
     "execution_count": 100,
     "metadata": {},
     "output_type": "execute_result"
    }
   ],
   "source": [
    "data_path = 'D:\\pythonProject\\dainstudio_tasks\\ml_dataset.csv'\n",
    "data_df = pd.read_csv(data_path)\n",
    "data_df = data_df.drop(columns='id')\n",
    "data_df['income'] = data_df.apply(lambda x: int(x['income']=='>50K'),axis=1)\n",
    "data_df.isnull().mean() * 100"
   ]
  },
  {
   "cell_type": "code",
   "execution_count": 101,
   "id": "84cc4447",
   "metadata": {},
   "outputs": [
    {
     "name": "stdout",
     "output_type": "stream",
     "text": [
      "int64 ['age', 'fnlwgt', 'education-num', 'capital-gain', 'capital-loss', 'hours-per-week', 'income']\n",
      "object ['worklass', 'education', 'martial-status', 'occupation', 'relationship', 'race', 'sex', 'native-country']\n"
     ]
    }
   ],
   "source": [
    "cols_type_groups = data_df.columns.to_series().groupby(data_df.dtypes).groups\n",
    "cols_type_groups = {k.name: v for k, v in cols_type_groups.items()}\n",
    "num_cols = cols_type_groups['int64']\n",
    "cat_cols = cols_type_groups['object']\n",
    "num_data = data_df[num_cols]\n",
    "data_df = pd.get_dummies(data_df, columns=cat_cols)\n",
    "for key,value in cols_type_groups.items():\n",
    "    print(key, list(value))"
   ]
  },
  {
   "cell_type": "code",
   "execution_count": 108,
   "id": "4eb6498e",
   "metadata": {},
   "outputs": [
    {
     "data": {
      "text/html": [
       "<div>\n",
       "<style scoped>\n",
       "    .dataframe tbody tr th:only-of-type {\n",
       "        vertical-align: middle;\n",
       "    }\n",
       "\n",
       "    .dataframe tbody tr th {\n",
       "        vertical-align: top;\n",
       "    }\n",
       "\n",
       "    .dataframe thead th {\n",
       "        text-align: right;\n",
       "    }\n",
       "</style>\n",
       "<table border=\"1\" class=\"dataframe\">\n",
       "  <thead>\n",
       "    <tr style=\"text-align: right;\">\n",
       "      <th></th>\n",
       "      <th>income</th>\n",
       "    </tr>\n",
       "  </thead>\n",
       "  <tbody>\n",
       "    <tr>\n",
       "      <th>martial-status_Never-married</th>\n",
       "      <td>-0.318440</td>\n",
       "    </tr>\n",
       "    <tr>\n",
       "      <th>relationship_Own-child</th>\n",
       "      <td>-0.228532</td>\n",
       "    </tr>\n",
       "    <tr>\n",
       "      <th>sex_Female</th>\n",
       "      <td>-0.215980</td>\n",
       "    </tr>\n",
       "    <tr>\n",
       "      <th>relationship_Not-in-family</th>\n",
       "      <td>-0.188497</td>\n",
       "    </tr>\n",
       "    <tr>\n",
       "      <th>occupation_Other-service</th>\n",
       "      <td>-0.156348</td>\n",
       "    </tr>\n",
       "    <tr>\n",
       "      <th>...</th>\n",
       "      <td>...</td>\n",
       "    </tr>\n",
       "    <tr>\n",
       "      <th>age</th>\n",
       "      <td>0.234037</td>\n",
       "    </tr>\n",
       "    <tr>\n",
       "      <th>education-num</th>\n",
       "      <td>0.335154</td>\n",
       "    </tr>\n",
       "    <tr>\n",
       "      <th>relationship_Husband</th>\n",
       "      <td>0.401035</td>\n",
       "    </tr>\n",
       "    <tr>\n",
       "      <th>martial-status_Married-civ-spouse</th>\n",
       "      <td>0.444696</td>\n",
       "    </tr>\n",
       "    <tr>\n",
       "      <th>income</th>\n",
       "      <td>1.000000</td>\n",
       "    </tr>\n",
       "  </tbody>\n",
       "</table>\n",
       "<p>109 rows × 1 columns</p>\n",
       "</div>"
      ],
      "text/plain": [
       "                                     income\n",
       "martial-status_Never-married      -0.318440\n",
       "relationship_Own-child            -0.228532\n",
       "sex_Female                        -0.215980\n",
       "relationship_Not-in-family        -0.188497\n",
       "occupation_Other-service          -0.156348\n",
       "...                                     ...\n",
       "age                                0.234037\n",
       "education-num                      0.335154\n",
       "relationship_Husband               0.401035\n",
       "martial-status_Married-civ-spouse  0.444696\n",
       "income                             1.000000\n",
       "\n",
       "[109 rows x 1 columns]"
      ]
     },
     "execution_count": 108,
     "metadata": {},
     "output_type": "execute_result"
    }
   ],
   "source": [
    "data_df.corr()[['income']].sort_values(by='income')"
   ]
  },
  {
   "cell_type": "code",
   "execution_count": 128,
   "id": "22c1a07b",
   "metadata": {},
   "outputs": [],
   "source": [
    "X = data_df.drop(columns='income')\n",
    "Y = data_df['income']\n",
    "seed = 7\n",
    "test_size = 0.33\n",
    "X_train, X_test, y_train, y_test = train_test_split(X, Y, test_size=test_size, random_state=seed)"
   ]
  },
  {
   "cell_type": "code",
   "execution_count": 129,
   "id": "93766f2a",
   "metadata": {},
   "outputs": [],
   "source": [
    "def train_evaluate(model):\n",
    "    \n",
    "    model.fit(X_train, y_train)\n",
    "    test_y_pred = model.predict(X_test)\n",
    "    train_y_pred = model.predict(X_train)\n",
    "\n",
    "    print('train:---')\n",
    "    print(str(classification_report(y_train, train_y_pred)))\n",
    "    print('######')\n",
    "    print('test:---')\n",
    "    print(str(classification_report(y_test, test_y_pred)))\n",
    "    "
   ]
  },
  {
   "cell_type": "code",
   "execution_count": 130,
   "id": "417a8870",
   "metadata": {},
   "outputs": [
    {
     "name": "stdout",
     "output_type": "stream",
     "text": [
      "[13:19:35] WARNING: C:/Users/Administrator/workspace/xgboost-win64_release_1.5.1/src/learner.cc:1115: Starting in XGBoost 1.3.0, the default evaluation metric used with the objective 'binary:logistic' was changed from 'error' to 'logloss'. Explicitly set eval_metric if you'd like to restore the old behavior.\n",
      "train:---\n",
      "              precision    recall  f1-score   support\n",
      "\n",
      "           0       0.92      0.96      0.94     16551\n",
      "           1       0.86      0.75      0.80      5264\n",
      "\n",
      "    accuracy                           0.91     21815\n",
      "   macro avg       0.89      0.85      0.87     21815\n",
      "weighted avg       0.91      0.91      0.91     21815\n",
      "\n",
      "######\n",
      "test:---\n",
      "              precision    recall  f1-score   support\n",
      "\n",
      "           0       0.90      0.94      0.92      8169\n",
      "           1       0.78      0.65      0.71      2577\n",
      "\n",
      "    accuracy                           0.87     10746\n",
      "   macro avg       0.84      0.80      0.81     10746\n",
      "weighted avg       0.87      0.87      0.87     10746\n",
      "\n"
     ]
    }
   ],
   "source": [
    "# xgboost \n",
    "model = XGBClassifier()\n",
    "train_evaluate(model)"
   ]
  },
  {
   "cell_type": "code",
   "execution_count": 132,
   "id": "62b582a0",
   "metadata": {},
   "outputs": [
    {
     "name": "stdout",
     "output_type": "stream",
     "text": [
      "Trial 1 Complete [00h 01m 31s]\n",
      "val_accuracy: 0.8337554931640625\n",
      "\n",
      "Best val_accuracy So Far: 0.8337554931640625\n",
      "Total elapsed time: 00h 01m 31s\n",
      "INFO:tensorflow:Oracle triggered exit\n",
      "Epoch 1/16\n",
      "682/682 [==============================] - 5s 4ms/step - loss: 0.4224 - accuracy: 0.8063\n",
      "Epoch 2/16\n",
      "682/682 [==============================] - 3s 4ms/step - loss: 0.3693 - accuracy: 0.8296\n",
      "Epoch 3/16\n",
      "682/682 [==============================] - 3s 4ms/step - loss: 0.3627 - accuracy: 0.8320\n",
      "Epoch 4/16\n",
      "682/682 [==============================] - 3s 4ms/step - loss: 0.3583 - accuracy: 0.8335\n",
      "Epoch 5/16\n",
      "682/682 [==============================] - 3s 4ms/step - loss: 0.3540 - accuracy: 0.8335\n",
      "Epoch 6/16\n",
      "682/682 [==============================] - 3s 4ms/step - loss: 0.3526 - accuracy: 0.8362\n",
      "Epoch 7/16\n",
      "682/682 [==============================] - 3s 5ms/step - loss: 0.3498 - accuracy: 0.8381\n",
      "Epoch 8/16\n",
      "682/682 [==============================] - 4s 6ms/step - loss: 0.3471 - accuracy: 0.8375\n",
      "Epoch 9/16\n",
      "682/682 [==============================] - 4s 6ms/step - loss: 0.3477 - accuracy: 0.8391\n",
      "Epoch 10/16\n",
      "682/682 [==============================] - 3s 5ms/step - loss: 0.3455 - accuracy: 0.8414\n",
      "Epoch 11/16\n",
      "682/682 [==============================] - 3s 4ms/step - loss: 0.3455 - accuracy: 0.8402\n",
      "Epoch 12/16\n",
      "682/682 [==============================] - 3s 4ms/step - loss: 0.3444 - accuracy: 0.8408\n",
      "Epoch 13/16\n",
      "682/682 [==============================] - 3s 5ms/step - loss: 0.3415 - accuracy: 0.8425\n",
      "Epoch 14/16\n",
      "682/682 [==============================] - 3s 4ms/step - loss: 0.3405 - accuracy: 0.8430\n",
      "Epoch 15/16\n",
      "682/682 [==============================] - 3s 4ms/step - loss: 0.3398 - accuracy: 0.8442\n",
      "Epoch 16/16\n",
      "682/682 [==============================] - 3s 4ms/step - loss: 0.3381 - accuracy: 0.8419: \n",
      "INFO:tensorflow:Assets written to: .\\structured_data_classifier\\best_model\\assets\n",
      "336/336 [==============================] - 2s 5ms/step\n",
      "682/682 [==============================] - 3s 5ms/step\n",
      "train:---\n",
      "              precision    recall  f1-score   support\n",
      "\n",
      "           0       0.87      0.94      0.90     16551\n",
      "           1       0.74      0.58      0.65      5264\n",
      "\n",
      "    accuracy                           0.85     21815\n",
      "   macro avg       0.81      0.76      0.78     21815\n",
      "weighted avg       0.84      0.85      0.84     21815\n",
      "\n",
      "######\n",
      "test:---\n",
      "              precision    recall  f1-score   support\n",
      "\n",
      "           0       0.87      0.93      0.90      8169\n",
      "           1       0.73      0.55      0.63      2577\n",
      "\n",
      "    accuracy                           0.84     10746\n",
      "   macro avg       0.80      0.74      0.76     10746\n",
      "weighted avg       0.83      0.84      0.83     10746\n",
      "\n"
     ]
    }
   ],
   "source": [
    "# auto ml\n",
    "model = ml_classifier(max_trials=5)\n",
    "train_evaluate(model)"
   ]
  },
  {
   "cell_type": "code",
   "execution_count": 147,
   "id": "ab31cb64",
   "metadata": {},
   "outputs": [],
   "source": [
    "from keras.models import Sequential\n",
    "from keras.layers import Dense\n",
    "\n",
    "\n",
    "# baseline model\n",
    "def create_model():\n",
    "    model = Sequential()\n",
    "    model.add(Dense(108, input_dim=108, activation='relu'))\n",
    "    model.add(Dense(1, activation='sigmoid'))\n",
    "    model.compile(loss='binary_crossentropy', optimizer='adam', metrics=['accuracy'])\n",
    "    \n",
    "    return model \n",
    "\n",
    "estimator = KerasClassifier(\n",
    "        build_fn=create_model, \n",
    "        epochs=100, \n",
    "        batch_size=30, \n",
    "        verbose=0\n",
    "    )"
   ]
  },
  {
   "cell_type": "code",
   "execution_count": null,
   "id": "1d88291e",
   "metadata": {},
   "outputs": [],
   "source": [
    "model = estimator\n",
    "train_evaluate(model)"
   ]
  },
  {
   "cell_type": "code",
   "execution_count": null,
   "id": "22ecdc02",
   "metadata": {},
   "outputs": [],
   "source": []
  }
 ],
 "metadata": {
  "kernelspec": {
   "display_name": "Python 3 (ipykernel)",
   "language": "python",
   "name": "python3"
  },
  "language_info": {
   "codemirror_mode": {
    "name": "ipython",
    "version": 3
   },
   "file_extension": ".py",
   "mimetype": "text/x-python",
   "name": "python",
   "nbconvert_exporter": "python",
   "pygments_lexer": "ipython3",
   "version": "3.9.1"
  }
 },
 "nbformat": 4,
 "nbformat_minor": 5
}
