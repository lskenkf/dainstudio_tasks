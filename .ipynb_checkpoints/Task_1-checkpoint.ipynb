{
 "cells": [
  {
   "cell_type": "code",
   "execution_count": 33,
   "id": "738e6b89",
   "metadata": {},
   "outputs": [],
   "source": [
    "import pandas as pd"
   ]
  },
  {
   "cell_type": "code",
   "execution_count": 65,
   "id": "61020599",
   "metadata": {},
   "outputs": [],
   "source": [
    "data_path = 'D:\\pythonProject\\dainstudio_tasks\\ESS1-9e01_1\\ESS1-9e01_1.csv'\n",
    "data_df = pd.read_csv(data_path) \n",
    "cols = [\n",
    "    'cntry', # country\n",
    "    'netustm',  #  Internet use, how much time on typical day, in minutes\n",
    "    'ppltrst'  #  Most people can be trusted or you can't be too careful\n",
    "]\n",
    "data_df = data_df[cols]\n",
    "\n",
    "\n",
    "netustm_filter = [\n",
    "    6666, # Not applicable\n",
    "    7777, # Refusal\n",
    "    8888, # Don't know\n",
    "    9999 # No answer\n",
    "]\n",
    "\n",
    "ppltrst_filter = [\n",
    "    77, # Refusal\n",
    "    88, # Don't know\n",
    "    99 # No answer\n",
    "]\n",
    "\n",
    "\n",
    "data_netustm_df = data_df[~data_df.netustm.isin(netustm_filter)]\n",
    "\n",
    "data_ppltrst_df = data_df[~data_df.ppltrst.isin(ppltrst_filter)]"
   ]
  },
  {
   "cell_type": "code",
   "execution_count": 66,
   "id": "2103816f",
   "metadata": {},
   "outputs": [
    {
     "data": {
      "text/plain": [
       "cntry      0.0\n",
       "netustm    0.0\n",
       "ppltrst    0.0\n",
       "dtype: float64"
      ]
     },
     "execution_count": 66,
     "metadata": {},
     "output_type": "execute_result"
    }
   ],
   "source": [
    "# check nan values.\n",
    "data_clean_df.isnull().mean() * 100"
   ]
  },
  {
   "cell_type": "code",
   "execution_count": 67,
   "id": "22f34015",
   "metadata": {},
   "outputs": [
    {
     "data": {
      "text/plain": [
       "((30113, 3), (44272, 3))"
      ]
     },
     "execution_count": 67,
     "metadata": {},
     "output_type": "execute_result"
    }
   ],
   "source": [
    "data_netustm_df.shape, data_ppltrst_df.shape"
   ]
  },
  {
   "cell_type": "code",
   "execution_count": 74,
   "id": "ee37e622",
   "metadata": {},
   "outputs": [],
   "source": [
    "agg_netustm = data_df.groupby('cntry')[['netustm']].mean()"
   ]
  },
  {
   "cell_type": "code",
   "execution_count": 75,
   "id": "0908b1d8",
   "metadata": {},
   "outputs": [],
   "source": [
    "agg_ppltrst = data_df.groupby('cntry')[['ppltrst']].mean()"
   ]
  },
  {
   "cell_type": "code",
   "execution_count": 77,
   "id": "806f1fc3",
   "metadata": {},
   "outputs": [],
   "source": [
    "agg_join = agg_netustm.merge(agg_ppltrst,on='cntry')"
   ]
  },
  {
   "cell_type": "code",
   "execution_count": 79,
   "id": "5630c561",
   "metadata": {},
   "outputs": [
    {
     "data": {
      "text/html": [
       "<div>\n",
       "<style scoped>\n",
       "    .dataframe tbody tr th:only-of-type {\n",
       "        vertical-align: middle;\n",
       "    }\n",
       "\n",
       "    .dataframe tbody tr th {\n",
       "        vertical-align: top;\n",
       "    }\n",
       "\n",
       "    .dataframe thead th {\n",
       "        text-align: right;\n",
       "    }\n",
       "</style>\n",
       "<table border=\"1\" class=\"dataframe\">\n",
       "  <thead>\n",
       "    <tr style=\"text-align: right;\">\n",
       "      <th></th>\n",
       "      <th>netustm</th>\n",
       "      <th>ppltrst</th>\n",
       "    </tr>\n",
       "  </thead>\n",
       "  <tbody>\n",
       "    <tr>\n",
       "      <th>netustm</th>\n",
       "      <td>1.000000</td>\n",
       "      <td>-0.744652</td>\n",
       "    </tr>\n",
       "    <tr>\n",
       "      <th>ppltrst</th>\n",
       "      <td>-0.744652</td>\n",
       "      <td>1.000000</td>\n",
       "    </tr>\n",
       "  </tbody>\n",
       "</table>\n",
       "</div>"
      ],
      "text/plain": [
       "          netustm   ppltrst\n",
       "netustm  1.000000 -0.744652\n",
       "ppltrst -0.744652  1.000000"
      ]
     },
     "execution_count": 79,
     "metadata": {},
     "output_type": "execute_result"
    }
   ],
   "source": [
    "agg_join.corr()"
   ]
  }
 ],
 "metadata": {
  "kernelspec": {
   "display_name": "Python 3 (ipykernel)",
   "language": "python",
   "name": "python3"
  },
  "language_info": {
   "codemirror_mode": {
    "name": "ipython",
    "version": 3
   },
   "file_extension": ".py",
   "mimetype": "text/x-python",
   "name": "python",
   "nbconvert_exporter": "python",
   "pygments_lexer": "ipython3",
   "version": "3.9.1"
  }
 },
 "nbformat": 4,
 "nbformat_minor": 5
}
